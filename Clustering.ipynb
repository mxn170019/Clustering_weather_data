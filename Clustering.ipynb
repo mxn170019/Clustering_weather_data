{
 "cells": [
  {
   "cell_type": "markdown",
   "metadata": {},
   "source": [
    "# Assignment 3 (Solution)\n",
    "## Programming for Data Science (BUAN 6340)\n",
    "\n",
    "### <font color='red'>Due Date: Nov 17, 2019 11:59pm</font> "
   ]
  },
  {
   "cell_type": "markdown",
   "metadata": {},
   "source": [
    "Deliverables:\n",
    "\n",
    "- Write down your codes in the given cells described in this file, denoted as \"YOUR CODE HERE\"\n",
    "- Use \"download as\" in the \"file\" menu to convert your ipython file to a .html file\n",
    "- Submit both .ipynb and .html files to the eLearning (you might need to compress them into one single file)\n",
    "\n",
    "\n",
    "This assignment covers machine learning models\n",
    "\n",
    "\n",
    "The total score: 100"
   ]
  },
  {
   "cell_type": "code",
   "execution_count": 2,
   "metadata": {},
   "outputs": [],
   "source": [
    "import warnings\n",
    "warnings.filterwarnings(\"ignore\")"
   ]
  },
  {
   "cell_type": "code",
   "execution_count": 3,
   "metadata": {},
   "outputs": [],
   "source": [
    "NAME = \"Mandeep Singh Narang\"\n",
    "Session = \"501\""
   ]
  },
  {
   "cell_type": "code",
   "execution_count": 4,
   "metadata": {},
   "outputs": [],
   "source": [
    "import pandas as pd\n",
    "import numpy as np\n",
    "import matplotlib.pyplot as plt\n",
    "\n",
    "%matplotlib inline"
   ]
  },
  {
   "cell_type": "markdown",
   "metadata": {},
   "source": [
    "# Part I Prediction"
   ]
  },
  {
   "cell_type": "code",
   "execution_count": 5,
   "metadata": {},
   "outputs": [],
   "source": [
    "from sklearn.metrics import accuracy_score\n",
    "from sklearn.model_selection import train_test_split\n",
    "from sklearn.tree import DecisionTreeClassifier"
   ]
  },
  {
   "cell_type": "code",
   "execution_count": 6,
   "metadata": {},
   "outputs": [],
   "source": [
    "data = pd.read_csv('Data/daily_weather.csv')"
   ]
  },
  {
   "cell_type": "markdown",
   "metadata": {},
   "source": [
    "## Daily Weather Data Description (60 points)"
   ]
  },
  {
   "cell_type": "markdown",
   "metadata": {},
   "source": [
    "<br>\n",
    "The file **daily_weather.csv** is a comma-separated file that contains weather data.  This data comes from a weather station located in San Diego, California.  The weather station is equipped with sensors that capture weather-related measurements such as air temperature, air pressure, and relative humidity.  Data was collected for a period of three years, from September 2011 to September 2014, to ensure that sufficient data for different seasons and weather conditions is captured.<br><br>\n",
    "Let's now check all the columns in the data."
   ]
  },
  {
   "cell_type": "markdown",
   "metadata": {},
   "source": [
    "<br>Each row in daily_weather.csv captures weather data for a separate day.  <br><br>\n",
    "Sensor measurements from the weather station were captured at one-minute intervals.  These measurements were then processed to generate values to describe daily weather. Since this dataset was created to classify low-humidity days vs. non-low-humidity days (that is, days with normal or high humidity), the variables included are weather measurements in the morning, with one measurement, namely relatively humidity, in the afternoon.  The idea is to use the morning weather values to predict whether the day will be low-humidity or not based on the afternoon measurement of relative humidity.\n",
    "\n",
    "Each row, or sample, consists of the following variables:\n",
    "\n",
    "* **number:** unique number for each row\n",
    "* **air_pressure_9am:** air pressure averaged over a period from 8:55am to 9:04am (*Unit: hectopascals*)\n",
    "* **air_temp_9am:** air temperature averaged over a period from 8:55am to 9:04am (*Unit: degrees Fahrenheit*)\n",
    "* **air_wind_direction_9am:** wind direction averaged over a period from 8:55am to 9:04am (*Unit: degrees, with 0 means coming from the North, and increasing clockwise*)\n",
    "* **air_wind_speed_9am:** wind speed averaged over a period from 8:55am to 9:04am (*Unit: miles per hour*)\n",
    "* ** max_wind_direction_9am:** wind gust direction averaged over a period from 8:55am to 9:10am (*Unit: degrees, with 0 being North and increasing clockwise*)\n",
    "* **max_wind_speed_9am:** wind gust speed averaged over a period from 8:55am to 9:04am (*Unit: miles per hour*)\n",
    "* **rain_accumulation_9am:** amount of rain accumulated in the 24 hours prior to 9am (*Unit: millimeters*)\n",
    "* **rain_duration_9am:** amount of time rain was recorded in the 24 hours prior to 9am (*Unit: seconds*)\n",
    "* **relative_humidity_9am:** relative humidity averaged over a period from 8:55am to 9:04am (*Unit: percent*)\n",
    "* **relative_humidity_3pm:** relative humidity averaged over a period from 2:55pm to 3:04pm (*Unit: percent *)"
   ]
  },
  {
   "cell_type": "code",
   "execution_count": 7,
   "metadata": {
    "scrolled": false
   },
   "outputs": [
    {
     "data": {
      "text/plain": [
       "Index(['number', 'air_pressure_9am', 'air_temp_9am', 'avg_wind_direction_9am',\n",
       "       'avg_wind_speed_9am', 'max_wind_direction_9am', 'max_wind_speed_9am',\n",
       "       'rain_accumulation_9am', 'rain_duration_9am', 'relative_humidity_9am',\n",
       "       'relative_humidity_3pm'],\n",
       "      dtype='object')"
      ]
     },
     "execution_count": 7,
     "metadata": {},
     "output_type": "execute_result"
    }
   ],
   "source": [
    "data.columns"
   ]
  },
  {
   "cell_type": "code",
   "execution_count": 8,
   "metadata": {},
   "outputs": [],
   "source": [
    "del data['number']\n",
    "data = data.dropna()"
   ]
  },
  {
   "cell_type": "code",
   "execution_count": 9,
   "metadata": {},
   "outputs": [],
   "source": [
    "# Binarize the relative_humidity_3pm to 0 or 1.\n",
    "\n",
    "clean_data = data.copy()\n",
    "clean_data['high_humidity_label'] = (clean_data['relative_humidity_3pm']>24.99)*1"
   ]
  },
  {
   "cell_type": "code",
   "execution_count": 10,
   "metadata": {},
   "outputs": [
    {
     "data": {
      "text/plain": [
       "(1064, 1)"
      ]
     },
     "execution_count": 10,
     "metadata": {},
     "output_type": "execute_result"
    }
   ],
   "source": [
    "y = clean_data[['high_humidity_label']]\n",
    "type(y)\n",
    "y.shape"
   ]
  },
  {
   "cell_type": "code",
   "execution_count": 11,
   "metadata": {},
   "outputs": [],
   "source": [
    "# Use 9am Sensor Signals as Features to Predict Humidity at 3pm\n",
    "\n",
    "morning_features = ['air_pressure_9am', 'air_temp_9am', 'avg_wind_direction_9am',\n",
    "       'avg_wind_speed_9am', 'max_wind_direction_9am', 'max_wind_speed_9am',\n",
    "       'rain_accumulation_9am', 'rain_duration_9am']"
   ]
  },
  {
   "cell_type": "code",
   "execution_count": 12,
   "metadata": {},
   "outputs": [],
   "source": [
    "X = clean_data[morning_features]"
   ]
  },
  {
   "cell_type": "code",
   "execution_count": 13,
   "metadata": {},
   "outputs": [],
   "source": [
    "X_train, X_test, y_train, y_test=train_test_split(X, y, random_state=23)"
   ]
  },
  {
   "cell_type": "markdown",
   "metadata": {},
   "source": [
    "**Complete the following tasks**:\n",
    "\n",
    "- Train a logistic regression model (10 points)\n",
    "- Train a SVM model by tunning both C and gamma, report the best parameters (15 points)\n",
    "- Train a decision tree model by tuning the proper parameters, report the best parameters (15 points)\n",
    "- Use the same parameters to train a random forest model (10 points)\n",
    "- Compare all the above models' performance (10 points)\n"
   ]
  },
  {
   "cell_type": "code",
   "execution_count": 14,
   "metadata": {},
   "outputs": [
    {
     "name": "stdout",
     "output_type": "stream",
     "text": [
      "logistic training accuracy 71.8 %\n",
      "logistic testing accuracy 71.43 %\n"
     ]
    }
   ],
   "source": [
    "# YOUR CODES \n",
    "\n",
    "#logistic Regression \n",
    "from sklearn.linear_model import LogisticRegression\n",
    "model = LogisticRegression()\n",
    "model.fit(X_train,y_train)\n",
    "\n",
    "print(\"logistic training accuracy\", round(model.score(X_train,y_train)*100,2),\"%\")\n",
    "print(\"logistic testing accuracy\",round(model.score(X_test,y_test)*100,2),\"%\")"
   ]
  },
  {
   "cell_type": "code",
   "execution_count": 15,
   "metadata": {},
   "outputs": [
    {
     "data": {
      "text/plain": [
       "GridSearchCV(cv=5, error_score='raise-deprecating',\n",
       "       estimator=SVC(C=1.0, cache_size=200, class_weight=None, coef0=0.0,\n",
       "  decision_function_shape='ovr', degree=3, gamma='auto_deprecated',\n",
       "  kernel='rbf', max_iter=-1, probability=False, random_state=None,\n",
       "  shrinking=True, tol=0.001, verbose=False),\n",
       "       fit_params=None, iid='warn', n_jobs=None,\n",
       "       param_grid={'kernel': ('linear', 'rbf'), 'C': [1, 10], 'gamma': [0.0001, 0.001, 0.01, 0.1, 1]},\n",
       "       pre_dispatch='2*n_jobs', refit=True, return_train_score='warn',\n",
       "       scoring=None, verbose=0)"
      ]
     },
     "execution_count": 15,
     "metadata": {},
     "output_type": "execute_result"
    }
   ],
   "source": [
    "#SVM Model with tuning voth c and gamma\n",
    "from sklearn.model_selection import GridSearchCV\n",
    "from sklearn.svm import SVC\n",
    "parameters = {'kernel':('linear', 'rbf'), 'C':[1, 10],'gamma':[0.0001,0.001,0.01,0.1,1]}\n",
    "\n",
    "clf = GridSearchCV(SVC(), parameters, cv=5)\n",
    "clf.fit(X_train, y_train)"
   ]
  },
  {
   "cell_type": "code",
   "execution_count": 16,
   "metadata": {},
   "outputs": [
    {
     "data": {
      "text/plain": [
       "{'C': 10, 'gamma': 0.01, 'kernel': 'rbf'}"
      ]
     },
     "execution_count": 16,
     "metadata": {},
     "output_type": "execute_result"
    }
   ],
   "source": [
    "clf.best_params_"
   ]
  },
  {
   "cell_type": "code",
   "execution_count": 17,
   "metadata": {},
   "outputs": [
    {
     "name": "stdout",
     "output_type": "stream",
     "text": [
      "SVC training accuracy 99.25 %\n",
      "SVC testing accuracy 85.71 %\n"
     ]
    }
   ],
   "source": [
    "# using best parameters for svm\n",
    "model = SVC(C=  10, gamma =  0.01, kernel = 'rbf')\n",
    "model.fit(X_train,y_train)\n",
    "\n",
    "print(\"SVC training accuracy\", round(model.score(X_train,y_train)*100,2),\"%\")\n",
    "print(\"SVC testing accuracy\",round(model.score(X_test,y_test)*100,2),\"%\")"
   ]
  },
  {
   "cell_type": "code",
   "execution_count": 18,
   "metadata": {},
   "outputs": [
    {
     "data": {
      "text/plain": [
       "{'criterion': 'entropy', 'max_depth': 6, 'splitter': 'best'}"
      ]
     },
     "execution_count": 18,
     "metadata": {},
     "output_type": "execute_result"
    }
   ],
   "source": [
    "#Decision Tree Model with tuning parameters\n",
    "from sklearn.tree import DecisionTreeClassifier\n",
    "parameters = {'criterion':['gini','entropy'], 'splitter':['best','random'], 'max_depth':[2,3,4,5,6,7,8]}\n",
    "clf = GridSearchCV(DecisionTreeClassifier(), parameters, cv=5)\n",
    "clf.fit(X_train, y_train)\n",
    "clf.best_params_"
   ]
  },
  {
   "cell_type": "code",
   "execution_count": 19,
   "metadata": {},
   "outputs": [
    {
     "name": "stdout",
     "output_type": "stream",
     "text": [
      "Dtree training accuracy 84.34 %\n",
      "Dtree testing accuracy 78.95 %\n"
     ]
    }
   ],
   "source": [
    "# using best parameters for Dtree\n",
    "model = DecisionTreeClassifier(criterion='entropy', max_depth= 8, splitter= 'random')\n",
    "model.fit(X_train,y_train)\n",
    "\n",
    "print(\"Dtree training accuracy\", round(model.score(X_train,y_train)*100,2),\"%\")\n",
    "print(\"Dtree testing accuracy\",round(model.score(X_test,y_test)*100,2),\"%\")"
   ]
  },
  {
   "cell_type": "code",
   "execution_count": 20,
   "metadata": {},
   "outputs": [
    {
     "name": "stdout",
     "output_type": "stream",
     "text": [
      "Dtree training accuracy 91.98 %\n",
      "Dtree testing accuracy 83.83 %\n"
     ]
    }
   ],
   "source": [
    "#Random Forest\n",
    "from sklearn.ensemble import RandomForestClassifier\n",
    "model = RandomForestClassifier(n_estimators=10, \n",
    "                               criterion='entropy', \n",
    "                               max_depth=8, \n",
    "                               min_samples_split=2)\n",
    "model.fit(X_train,y_train)\n",
    "\n",
    "print(\"Dtree training accuracy\", round(model.score(X_train,y_train)*100,2),\"%\")\n",
    "print(\"Dtree testing accuracy\",round(model.score(X_test,y_test)*100,2),\"%\")"
   ]
  },
  {
   "cell_type": "markdown",
   "metadata": {},
   "source": [
    "# Part II Clustering (40 points)"
   ]
  },
  {
   "cell_type": "code",
   "execution_count": 21,
   "metadata": {},
   "outputs": [],
   "source": [
    "data = pd.read_csv('Data/minute_weather.csv')"
   ]
  },
  {
   "cell_type": "markdown",
   "metadata": {},
   "source": [
    "## Weather data"
   ]
  },
  {
   "cell_type": "markdown",
   "metadata": {},
   "source": [
    "The **minute weather dataset** comes from the same source as the daily weather dataset that we used in the decision tree based classifier notebook. The main difference between these two datasets is that the minute weather dataset contains raw sensor measurements captured at one-minute intervals. Daily weather dataset instead contained processed and well curated data. The data is in the file **minute_weather.csv**, which is a comma-separated file.\n",
    "\n",
    "As with the daily weather data, this data comes from a weather station located in San Diego, California. The weather station is equipped with sensors that capture weather-related measurements such as air temperature, air pressure, and relative humidity. Data was collected for a period of three years, from September 2011 to September 2014, to ensure that sufficient data for different seasons and weather conditions is captured.\n",
    "\n",
    "Each row in **minute_weather.csv** contains weather data captured for a one-minute interval. Each row, or sample, consists of the following variables:\n",
    "\n",
    "* **rowID:** \tunique number for each row\t(*Unit: NA*)\n",
    "* **hpwren_timestamp:**\ttimestamp of measure\t(*Unit: year-month-day hour:minute:second*)\n",
    "* **air_pressure:** air pressure measured at the timestamp\t(*Unit: hectopascals*)\n",
    "* **air_temp:**\tair temperature measure at the timestamp\t(*Unit: degrees Fahrenheit*)\n",
    "* **avg_wind_direction:**\twind direction averaged over the minute before the timestamp\t(*Unit: degrees, with 0 means coming from the North, and increasing clockwise*)\n",
    "* **avg_wind_speed:**\twind speed averaged over the minute before the timestamp\t(*Unit: meters per second*)\n",
    "* **max_wind_direction:**\thighest wind direction in the minute before the timestamp\t(*Unit: degrees, with 0 being North and increasing clockwise*)\n",
    "* **max_wind_speed:**\thighest wind speed in the minute before the timestamp\t(*Unit: meters per second*)\n",
    "* **min_wind_direction:**\tsmallest wind direction in the minute before the timestamp\t(*Unit: degrees, with 0 being North and inceasing clockwise*)\n",
    "* **min_wind_speed:**\tsmallest wind speed in the minute before the timestamp\t(*Unit: meters per second*)\n",
    "* **rain_accumulation:**\tamount of accumulated rain measured at the timestamp\t(*Unit: millimeters*)\n",
    "* **rain_duration:**\tlength of time rain has fallen as measured at the timestamp\t(*Unit: seconds*)\n",
    "* **relative_humidity:**\trelative humidity measured at the timestamp\t(*Unit: percent*)"
   ]
  },
  {
   "cell_type": "code",
   "execution_count": 22,
   "metadata": {},
   "outputs": [
    {
     "data": {
      "text/plain": [
       "Index(['rowID', 'hpwren_timestamp', 'air_pressure', 'air_temp',\n",
       "       'avg_wind_direction', 'avg_wind_speed', 'max_wind_direction',\n",
       "       'max_wind_speed', 'min_wind_direction', 'min_wind_speed',\n",
       "       'rain_accumulation', 'rain_duration', 'relative_humidity'],\n",
       "      dtype='object')"
      ]
     },
     "execution_count": 22,
     "metadata": {},
     "output_type": "execute_result"
    }
   ],
   "source": [
    "data.columns"
   ]
  },
  {
   "cell_type": "code",
   "execution_count": 23,
   "metadata": {},
   "outputs": [
    {
     "data": {
      "text/html": [
       "<div>\n",
       "<style scoped>\n",
       "    .dataframe tbody tr th:only-of-type {\n",
       "        vertical-align: middle;\n",
       "    }\n",
       "\n",
       "    .dataframe tbody tr th {\n",
       "        vertical-align: top;\n",
       "    }\n",
       "\n",
       "    .dataframe thead th {\n",
       "        text-align: right;\n",
       "    }\n",
       "</style>\n",
       "<table border=\"1\" class=\"dataframe\">\n",
       "  <thead>\n",
       "    <tr style=\"text-align: right;\">\n",
       "      <th></th>\n",
       "      <th>rowID</th>\n",
       "      <th>hpwren_timestamp</th>\n",
       "      <th>air_pressure</th>\n",
       "      <th>air_temp</th>\n",
       "      <th>avg_wind_direction</th>\n",
       "      <th>avg_wind_speed</th>\n",
       "      <th>max_wind_direction</th>\n",
       "      <th>max_wind_speed</th>\n",
       "      <th>min_wind_direction</th>\n",
       "      <th>min_wind_speed</th>\n",
       "      <th>rain_accumulation</th>\n",
       "      <th>rain_duration</th>\n",
       "      <th>relative_humidity</th>\n",
       "    </tr>\n",
       "  </thead>\n",
       "  <tbody>\n",
       "    <tr>\n",
       "      <th>0</th>\n",
       "      <td>0</td>\n",
       "      <td>2011-09-10 00:00:49</td>\n",
       "      <td>912.3</td>\n",
       "      <td>64.76</td>\n",
       "      <td>97.0</td>\n",
       "      <td>1.2</td>\n",
       "      <td>106.0</td>\n",
       "      <td>1.6</td>\n",
       "      <td>85.0</td>\n",
       "      <td>1.0</td>\n",
       "      <td>NaN</td>\n",
       "      <td>NaN</td>\n",
       "      <td>60.5</td>\n",
       "    </tr>\n",
       "    <tr>\n",
       "      <th>1</th>\n",
       "      <td>1</td>\n",
       "      <td>2011-09-10 00:01:49</td>\n",
       "      <td>912.3</td>\n",
       "      <td>63.86</td>\n",
       "      <td>161.0</td>\n",
       "      <td>0.8</td>\n",
       "      <td>215.0</td>\n",
       "      <td>1.5</td>\n",
       "      <td>43.0</td>\n",
       "      <td>0.2</td>\n",
       "      <td>0.0</td>\n",
       "      <td>0.0</td>\n",
       "      <td>39.9</td>\n",
       "    </tr>\n",
       "    <tr>\n",
       "      <th>2</th>\n",
       "      <td>2</td>\n",
       "      <td>2011-09-10 00:02:49</td>\n",
       "      <td>912.3</td>\n",
       "      <td>64.22</td>\n",
       "      <td>77.0</td>\n",
       "      <td>0.7</td>\n",
       "      <td>143.0</td>\n",
       "      <td>1.2</td>\n",
       "      <td>324.0</td>\n",
       "      <td>0.3</td>\n",
       "      <td>0.0</td>\n",
       "      <td>0.0</td>\n",
       "      <td>43.0</td>\n",
       "    </tr>\n",
       "    <tr>\n",
       "      <th>3</th>\n",
       "      <td>3</td>\n",
       "      <td>2011-09-10 00:03:49</td>\n",
       "      <td>912.3</td>\n",
       "      <td>64.40</td>\n",
       "      <td>89.0</td>\n",
       "      <td>1.2</td>\n",
       "      <td>112.0</td>\n",
       "      <td>1.6</td>\n",
       "      <td>12.0</td>\n",
       "      <td>0.7</td>\n",
       "      <td>0.0</td>\n",
       "      <td>0.0</td>\n",
       "      <td>49.5</td>\n",
       "    </tr>\n",
       "    <tr>\n",
       "      <th>4</th>\n",
       "      <td>4</td>\n",
       "      <td>2011-09-10 00:04:49</td>\n",
       "      <td>912.3</td>\n",
       "      <td>64.40</td>\n",
       "      <td>185.0</td>\n",
       "      <td>0.4</td>\n",
       "      <td>260.0</td>\n",
       "      <td>1.0</td>\n",
       "      <td>100.0</td>\n",
       "      <td>0.1</td>\n",
       "      <td>0.0</td>\n",
       "      <td>0.0</td>\n",
       "      <td>58.8</td>\n",
       "    </tr>\n",
       "  </tbody>\n",
       "</table>\n",
       "</div>"
      ],
      "text/plain": [
       "   rowID     hpwren_timestamp  air_pressure  air_temp  avg_wind_direction  \\\n",
       "0      0  2011-09-10 00:00:49         912.3     64.76                97.0   \n",
       "1      1  2011-09-10 00:01:49         912.3     63.86               161.0   \n",
       "2      2  2011-09-10 00:02:49         912.3     64.22                77.0   \n",
       "3      3  2011-09-10 00:03:49         912.3     64.40                89.0   \n",
       "4      4  2011-09-10 00:04:49         912.3     64.40               185.0   \n",
       "\n",
       "   avg_wind_speed  max_wind_direction  max_wind_speed  min_wind_direction  \\\n",
       "0             1.2               106.0             1.6                85.0   \n",
       "1             0.8               215.0             1.5                43.0   \n",
       "2             0.7               143.0             1.2               324.0   \n",
       "3             1.2               112.0             1.6                12.0   \n",
       "4             0.4               260.0             1.0               100.0   \n",
       "\n",
       "   min_wind_speed  rain_accumulation  rain_duration  relative_humidity  \n",
       "0             1.0                NaN            NaN               60.5  \n",
       "1             0.2                0.0            0.0               39.9  \n",
       "2             0.3                0.0            0.0               43.0  \n",
       "3             0.7                0.0            0.0               49.5  \n",
       "4             0.1                0.0            0.0               58.8  "
      ]
     },
     "execution_count": 23,
     "metadata": {},
     "output_type": "execute_result"
    }
   ],
   "source": [
    "data.head()"
   ]
  },
  {
   "cell_type": "code",
   "execution_count": 24,
   "metadata": {},
   "outputs": [
    {
     "data": {
      "text/plain": [
       "(1587257, 13)"
      ]
     },
     "execution_count": 24,
     "metadata": {},
     "output_type": "execute_result"
    }
   ],
   "source": [
    "data.shape"
   ]
  },
  {
   "cell_type": "code",
   "execution_count": 25,
   "metadata": {},
   "outputs": [
    {
     "data": {
      "text/plain": [
       "(158726, 13)"
      ]
     },
     "execution_count": 25,
     "metadata": {},
     "output_type": "execute_result"
    }
   ],
   "source": [
    "#Lots of rows, so let us sample down by taking every 10th row.\n",
    "sampled_df = data[(data['rowID']%10) == 0]\n",
    "sampled_df.shape"
   ]
  },
  {
   "cell_type": "code",
   "execution_count": 26,
   "metadata": {},
   "outputs": [],
   "source": [
    "sampled_df = sampled_df.dropna()"
   ]
  },
  {
   "cell_type": "code",
   "execution_count": 27,
   "metadata": {},
   "outputs": [],
   "source": [
    "features = ['air_pressure', 'air_temp', 'avg_wind_direction', 'avg_wind_speed', 'max_wind_direction', \n",
    "        'max_wind_speed','relative_humidity']"
   ]
  },
  {
   "cell_type": "code",
   "execution_count": 28,
   "metadata": {},
   "outputs": [],
   "source": [
    "select_df = sampled_df[features]"
   ]
  },
  {
   "cell_type": "code",
   "execution_count": 29,
   "metadata": {},
   "outputs": [
    {
     "data": {
      "text/plain": [
       "array([[-1.48457779,  0.03247287, -0.1905634 , ...,  0.03826302,\n",
       "        -0.66172102, -0.34710411],\n",
       "       [-1.51734678,  0.1237468 , -0.65236961, ..., -0.44847591,\n",
       "        -0.372321  ,  0.40839584],\n",
       "       [-1.51734678,  0.06289752, -0.74682997, ..., -0.6539879 ,\n",
       "        -0.41366386,  0.39313322],\n",
       "       ...,\n",
       "       [-0.30489432,  1.15818466,  1.90855574, ...,  2.03930084,\n",
       "        -0.70306388,  0.01538324],\n",
       "       [-0.30489432,  1.12776002,  2.06598967, ..., -1.67073143,\n",
       "        -0.74440674, -0.04948292],\n",
       "       [-0.30489432,  1.09733538, -1.6389556 , ..., -1.55175081,\n",
       "        -0.62037816, -0.05711423]])"
      ]
     },
     "execution_count": 29,
     "metadata": {},
     "output_type": "execute_result"
    }
   ],
   "source": [
    "#Standardize the Features using StandardScaler\n",
    "from sklearn.preprocessing import StandardScaler\n",
    "X = StandardScaler().fit_transform(select_df)\n",
    "X"
   ]
  },
  {
   "cell_type": "markdown",
   "metadata": {},
   "source": [
    "**Complete the following tasks**:\n",
    "\n",
    "- Train a KMeans clustering model. (20 points)\n",
    "- Visualize the differences of feature \"air_temp\" among different clusters. Any visualiztion types could be accepted.  (20 points)\n",
    "\n",
    "Note: you should select a value of k, based on which you are able to observe differences among clusters.\n"
   ]
  },
  {
   "cell_type": "code",
   "execution_count": 53,
   "metadata": {},
   "outputs": [
    {
     "name": "stdout",
     "output_type": "stream",
     "text": [
      "model\n",
      " KMeans(algorithm='auto', copy_x=True, init='k-means++', max_iter=300,\n",
      "    n_clusters=12, n_init=10, n_jobs=None, precompute_distances='auto',\n",
      "    random_state=0, tol=0.0001, verbose=0)\n"
     ]
    }
   ],
   "source": [
    "# YOUR CODES\n",
    "from sklearn.cluster import KMeans\n",
    "import mglearn\n",
    "\n",
    "kmeans = KMeans(n_clusters=12,random_state=0)\n",
    "model = kmeans.fit(X)\n",
    "print(\"model\\n\", model)\n",
    "\n"
   ]
  },
  {
   "cell_type": "code",
   "execution_count": 54,
   "metadata": {},
   "outputs": [
    {
     "data": {
      "text/plain": [
       "array([[-0.2105803 ,  0.63297089,  0.40855947,  0.73353177,  0.51672949,\n",
       "         0.67168206, -0.15167209],\n",
       "       [-0.16371457,  0.86340309, -1.31126988, -0.58955742, -1.16710864,\n",
       "        -0.604845  , -0.64125392],\n",
       "       [ 0.71686804,  0.4490854 ,  0.28554175, -0.53635362,  0.47281031,\n",
       "        -0.54261192, -0.7668326 ],\n",
       "       [ 1.36768401, -0.0815131 , -1.20649872, -0.05108645, -1.07519808,\n",
       "        -0.03085102, -0.97766145],\n",
       "       [-1.18246928, -0.87048047,  0.44692398,  1.98305636,  0.53842219,\n",
       "         1.94397431,  0.90886653],\n",
       "       [ 0.06113011, -0.78891517, -1.19730573, -0.57078268, -1.0433204 ,\n",
       "        -0.58536718,  0.87915571],\n",
       "       [-0.70612636,  0.53391957,  0.17524462, -0.58440067,  0.3449014 ,\n",
       "        -0.59782464, -0.10775483],\n",
       "       [ 0.13260128,  0.84095924,  1.41239586, -0.63819452,  1.67654021,\n",
       "        -0.5889987 , -0.71369508],\n",
       "       [-0.83791689, -1.20126415,  0.37553195,  0.36910378,  0.47399254,\n",
       "         0.35706942,  1.36247179],\n",
       "       [ 0.23404279,  0.32061931,  1.88794692, -0.65181909, -1.55175898,\n",
       "        -0.57669785, -0.2838467 ],\n",
       "       [ 1.19007317, -0.25468082, -1.15493403,  2.12260559, -1.05341028,\n",
       "         2.23935472, -1.13456351],\n",
       "       [ 0.24468676, -0.99617018,  0.65801417, -0.54722394,  0.84780083,\n",
       "        -0.52998723,  1.16149095]])"
      ]
     },
     "execution_count": 54,
     "metadata": {},
     "output_type": "execute_result"
    }
   ],
   "source": [
    "centers = model.cluster_centers_\n",
    "centers"
   ]
  },
  {
   "cell_type": "code",
   "execution_count": 55,
   "metadata": {},
   "outputs": [],
   "source": [
    "# Function that creates a DataFrame with a column for Cluster Number\n",
    "\n",
    "def pd_centers(featuresUsed, centers):\n",
    "    colNames = list(featuresUsed)\n",
    "    colNames.append('prediction')\n",
    "\n",
    "    # Zip with a column called 'prediction' (index)\n",
    "    Z = [np.append(A, index) for index, A in enumerate(centers)]\n",
    "\n",
    "    # Convert to pandas data frame for plotting\n",
    "    P = pd.DataFrame(Z, columns=colNames)\n",
    "    P['prediction'] = P['prediction'].astype(int)\n",
    "    return P"
   ]
  },
  {
   "cell_type": "code",
   "execution_count": 67,
   "metadata": {},
   "outputs": [],
   "source": [
    "from itertools import cycle, islice\n",
    "from pandas.plotting import parallel_coordinates\n",
    "\n",
    "# Function that creates Parallel Plots\n",
    "\n",
    "def parallel_plot(data):\n",
    "    my_colors = list(islice(cycle(['b', 'r', 'g', 'y', 'k']), None, len(data)))\n",
    "    plt.figure(figsize=(15,8)).gca().axes.set_ylim([-3,+3])\n",
    "    parallel_coordinates(data, 'prediction', color = my_colors, marker='o')\n",
    "\n",
    "    "
   ]
  },
  {
   "cell_type": "code",
   "execution_count": 68,
   "metadata": {},
   "outputs": [
    {
     "data": {
      "text/html": [
       "<div>\n",
       "<style scoped>\n",
       "    .dataframe tbody tr th:only-of-type {\n",
       "        vertical-align: middle;\n",
       "    }\n",
       "\n",
       "    .dataframe tbody tr th {\n",
       "        vertical-align: top;\n",
       "    }\n",
       "\n",
       "    .dataframe thead th {\n",
       "        text-align: right;\n",
       "    }\n",
       "</style>\n",
       "<table border=\"1\" class=\"dataframe\">\n",
       "  <thead>\n",
       "    <tr style=\"text-align: right;\">\n",
       "      <th></th>\n",
       "      <th>air_pressure</th>\n",
       "      <th>air_temp</th>\n",
       "      <th>avg_wind_direction</th>\n",
       "      <th>avg_wind_speed</th>\n",
       "      <th>max_wind_direction</th>\n",
       "      <th>max_wind_speed</th>\n",
       "      <th>relative_humidity</th>\n",
       "      <th>prediction</th>\n",
       "    </tr>\n",
       "  </thead>\n",
       "  <tbody>\n",
       "    <tr>\n",
       "      <th>0</th>\n",
       "      <td>-0.210580</td>\n",
       "      <td>0.632971</td>\n",
       "      <td>0.408559</td>\n",
       "      <td>0.733532</td>\n",
       "      <td>0.516729</td>\n",
       "      <td>0.671682</td>\n",
       "      <td>-0.151672</td>\n",
       "      <td>0</td>\n",
       "    </tr>\n",
       "    <tr>\n",
       "      <th>1</th>\n",
       "      <td>-0.163715</td>\n",
       "      <td>0.863403</td>\n",
       "      <td>-1.311270</td>\n",
       "      <td>-0.589557</td>\n",
       "      <td>-1.167109</td>\n",
       "      <td>-0.604845</td>\n",
       "      <td>-0.641254</td>\n",
       "      <td>1</td>\n",
       "    </tr>\n",
       "    <tr>\n",
       "      <th>2</th>\n",
       "      <td>0.716868</td>\n",
       "      <td>0.449085</td>\n",
       "      <td>0.285542</td>\n",
       "      <td>-0.536354</td>\n",
       "      <td>0.472810</td>\n",
       "      <td>-0.542612</td>\n",
       "      <td>-0.766833</td>\n",
       "      <td>2</td>\n",
       "    </tr>\n",
       "    <tr>\n",
       "      <th>3</th>\n",
       "      <td>1.367684</td>\n",
       "      <td>-0.081513</td>\n",
       "      <td>-1.206499</td>\n",
       "      <td>-0.051086</td>\n",
       "      <td>-1.075198</td>\n",
       "      <td>-0.030851</td>\n",
       "      <td>-0.977661</td>\n",
       "      <td>3</td>\n",
       "    </tr>\n",
       "    <tr>\n",
       "      <th>4</th>\n",
       "      <td>-1.182469</td>\n",
       "      <td>-0.870480</td>\n",
       "      <td>0.446924</td>\n",
       "      <td>1.983056</td>\n",
       "      <td>0.538422</td>\n",
       "      <td>1.943974</td>\n",
       "      <td>0.908867</td>\n",
       "      <td>4</td>\n",
       "    </tr>\n",
       "    <tr>\n",
       "      <th>5</th>\n",
       "      <td>0.061130</td>\n",
       "      <td>-0.788915</td>\n",
       "      <td>-1.197306</td>\n",
       "      <td>-0.570783</td>\n",
       "      <td>-1.043320</td>\n",
       "      <td>-0.585367</td>\n",
       "      <td>0.879156</td>\n",
       "      <td>5</td>\n",
       "    </tr>\n",
       "    <tr>\n",
       "      <th>6</th>\n",
       "      <td>-0.706126</td>\n",
       "      <td>0.533920</td>\n",
       "      <td>0.175245</td>\n",
       "      <td>-0.584401</td>\n",
       "      <td>0.344901</td>\n",
       "      <td>-0.597825</td>\n",
       "      <td>-0.107755</td>\n",
       "      <td>6</td>\n",
       "    </tr>\n",
       "    <tr>\n",
       "      <th>7</th>\n",
       "      <td>0.132601</td>\n",
       "      <td>0.840959</td>\n",
       "      <td>1.412396</td>\n",
       "      <td>-0.638195</td>\n",
       "      <td>1.676540</td>\n",
       "      <td>-0.588999</td>\n",
       "      <td>-0.713695</td>\n",
       "      <td>7</td>\n",
       "    </tr>\n",
       "    <tr>\n",
       "      <th>8</th>\n",
       "      <td>-0.837917</td>\n",
       "      <td>-1.201264</td>\n",
       "      <td>0.375532</td>\n",
       "      <td>0.369104</td>\n",
       "      <td>0.473993</td>\n",
       "      <td>0.357069</td>\n",
       "      <td>1.362472</td>\n",
       "      <td>8</td>\n",
       "    </tr>\n",
       "    <tr>\n",
       "      <th>9</th>\n",
       "      <td>0.234043</td>\n",
       "      <td>0.320619</td>\n",
       "      <td>1.887947</td>\n",
       "      <td>-0.651819</td>\n",
       "      <td>-1.551759</td>\n",
       "      <td>-0.576698</td>\n",
       "      <td>-0.283847</td>\n",
       "      <td>9</td>\n",
       "    </tr>\n",
       "    <tr>\n",
       "      <th>10</th>\n",
       "      <td>1.190073</td>\n",
       "      <td>-0.254681</td>\n",
       "      <td>-1.154934</td>\n",
       "      <td>2.122606</td>\n",
       "      <td>-1.053410</td>\n",
       "      <td>2.239355</td>\n",
       "      <td>-1.134564</td>\n",
       "      <td>10</td>\n",
       "    </tr>\n",
       "    <tr>\n",
       "      <th>11</th>\n",
       "      <td>0.244687</td>\n",
       "      <td>-0.996170</td>\n",
       "      <td>0.658014</td>\n",
       "      <td>-0.547224</td>\n",
       "      <td>0.847801</td>\n",
       "      <td>-0.529987</td>\n",
       "      <td>1.161491</td>\n",
       "      <td>11</td>\n",
       "    </tr>\n",
       "  </tbody>\n",
       "</table>\n",
       "</div>"
      ],
      "text/plain": [
       "    air_pressure  air_temp  avg_wind_direction  avg_wind_speed  \\\n",
       "0      -0.210580  0.632971            0.408559        0.733532   \n",
       "1      -0.163715  0.863403           -1.311270       -0.589557   \n",
       "2       0.716868  0.449085            0.285542       -0.536354   \n",
       "3       1.367684 -0.081513           -1.206499       -0.051086   \n",
       "4      -1.182469 -0.870480            0.446924        1.983056   \n",
       "5       0.061130 -0.788915           -1.197306       -0.570783   \n",
       "6      -0.706126  0.533920            0.175245       -0.584401   \n",
       "7       0.132601  0.840959            1.412396       -0.638195   \n",
       "8      -0.837917 -1.201264            0.375532        0.369104   \n",
       "9       0.234043  0.320619            1.887947       -0.651819   \n",
       "10      1.190073 -0.254681           -1.154934        2.122606   \n",
       "11      0.244687 -0.996170            0.658014       -0.547224   \n",
       "\n",
       "    max_wind_direction  max_wind_speed  relative_humidity  prediction  \n",
       "0             0.516729        0.671682          -0.151672           0  \n",
       "1            -1.167109       -0.604845          -0.641254           1  \n",
       "2             0.472810       -0.542612          -0.766833           2  \n",
       "3            -1.075198       -0.030851          -0.977661           3  \n",
       "4             0.538422        1.943974           0.908867           4  \n",
       "5            -1.043320       -0.585367           0.879156           5  \n",
       "6             0.344901       -0.597825          -0.107755           6  \n",
       "7             1.676540       -0.588999          -0.713695           7  \n",
       "8             0.473993        0.357069           1.362472           8  \n",
       "9            -1.551759       -0.576698          -0.283847           9  \n",
       "10           -1.053410        2.239355          -1.134564          10  \n",
       "11            0.847801       -0.529987           1.161491          11  "
      ]
     },
     "execution_count": 68,
     "metadata": {},
     "output_type": "execute_result"
    }
   ],
   "source": [
    "P = pd_centers(features, centers)\n",
    "P"
   ]
  },
  {
   "cell_type": "code",
   "execution_count": 69,
   "metadata": {},
   "outputs": [
    {
     "data": {
      "text/plain": [
       "<matplotlib.axes._subplots.AxesSubplot at 0x11685f588>"
      ]
     },
     "execution_count": 69,
     "metadata": {},
     "output_type": "execute_result"
    },
    {
     "data": {
      "image/png": "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\n",
      "text/plain": [
       "<Figure size 432x288 with 1 Axes>"
      ]
     },
     "metadata": {
      "needs_background": "light"
     },
     "output_type": "display_data"
    }
   ],
   "source": [
    "\n",
    "import seaborn as sns\n",
    "sns.scatterplot(P.air_temp,P.prediction,hue = P.prediction)\n"
   ]
  },
  {
   "cell_type": "code",
   "execution_count": 70,
   "metadata": {},
   "outputs": [
    {
     "data": {
      "image/png": "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\n",
      "text/plain": [
       "<Figure size 1080x576 with 1 Axes>"
      ]
     },
     "metadata": {
      "needs_background": "light"
     },
     "output_type": "display_data"
    }
   ],
   "source": [
    "# WARM DAYS\n",
    "parallel_plot(P[P['air_temp'] > 0.5])\n"
   ]
  },
  {
   "cell_type": "code",
   "execution_count": 71,
   "metadata": {},
   "outputs": [
    {
     "data": {
      "image/png": "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